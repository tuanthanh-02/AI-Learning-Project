{
 "cells": [
  {
   "cell_type": "markdown",
   "metadata": {},
   "source": [
    "<a href=\"https://cognitiveclass.ai\"><img src=\"https://cf-courses-data.s3.us.cloud-object-storage.appdomain.cloud/IBMDeveloperSkillsNetwork-DL0101EN-SkillsNetwork/images/IDSN-logo.png\" width=\"400\"> </a>\n",
    "\n",
    "# Regression Models with Keras\n",
    "\n",
    "Estimated time needed: **45** mins\n"
   ]
  },
  {
   "cell_type": "markdown",
   "metadata": {},
   "source": [
    "## Introduction\n"
   ]
  },
  {
   "cell_type": "markdown",
   "metadata": {},
   "source": [
    "As we discussed in the videos, despite the popularity of more powerful libraries such as PyToch and TensorFlow, they are not easy to use and have a steep learning curve. So, for people who are just starting to learn deep learning, there is no better library to use other than the Keras library. \n",
    "\n",
    "Keras is a high-level API for building deep learning models. It has gained favor for its ease of use and syntactic simplicity facilitating fast development. As you will see in this lab and the other labs in this course, building a very complex deep learning network can be achieved with Keras with only few lines of code. You will appreciate Keras even more, once you learn how to build deep models using PyTorch and TensorFlow in the other courses.\n",
    "\n",
    "So, in this lab, you will learn how to use the Keras library to build a regression model.\n"
   ]
  },
  {
   "cell_type": "markdown",
   "metadata": {},
   "source": [
    "## Objectives for this Notebook    \n",
    "* How to use the Keras library to build a regression model\n",
    "* Download and clean the data set\n",
    "* Build a neural network\n",
    "* Train and test the network     \n",
    "\n"
   ]
  },
  {
   "cell_type": "markdown",
   "metadata": {},
   "source": [
    "<h2>Table of Contents</h2>\n",
    "\n",
    "\n",
    "<div class=\"alert alert-block alert-info\" style=\"margin-top: 20px\">\n",
    "\n",
    "<font size = 4>\n",
    "1. <a href=\"#Download-and-Clean-the-Data-Set\">Download and Clean the Data Set</a><br>\n",
    "2. <a href=\"#Import-Keras-Packages\">Import Keras Packages</a><br>\n",
    "3. <a href=\"#Build-a-Neural-Network\">Build a Neural Network</a><br>\n",
    "4. <a href=\"#Train-and-Test-the-Network\">Train and Test the Network</a><br>  \n",
    "\n",
    "</font>\n",
    "</div>\n"
   ]
  },
  {
   "cell_type": "markdown",
   "metadata": {},
   "source": [
    "Let's start by importing the <em>pandas</em> and the Numpy libraries.\n"
   ]
  },
  {
   "cell_type": "code",
   "execution_count": 1,
   "metadata": {},
   "outputs": [
    {
     "name": "stdout",
     "output_type": "stream",
     "text": [
      "Requirement already satisfied: numpy in c:\\users\\admin\\anaconda3\\envs\\ml_learning\\lib\\site-packages (1.24.3)\n",
      "Note: you may need to restart the kernel to use updated packages.\n",
      "Requirement already satisfied: pandas in c:\\users\\admin\\anaconda3\\envs\\ml_learning\\lib\\site-packages (2.0.3)Note: you may need to restart the kernel to use updated packages.\n",
      "\n",
      "Requirement already satisfied: python-dateutil>=2.8.2 in c:\\users\\admin\\anaconda3\\envs\\ml_learning\\lib\\site-packages (from pandas) (2.9.0)\n",
      "Requirement already satisfied: pytz>=2020.1 in c:\\users\\admin\\anaconda3\\envs\\ml_learning\\lib\\site-packages (from pandas) (2024.2)\n",
      "Requirement already satisfied: tzdata>=2022.1 in c:\\users\\admin\\anaconda3\\envs\\ml_learning\\lib\\site-packages (from pandas) (2023.3)\n",
      "Requirement already satisfied: numpy>=1.20.3 in c:\\users\\admin\\anaconda3\\envs\\ml_learning\\lib\\site-packages (from pandas) (1.24.3)\n",
      "Requirement already satisfied: six>=1.5 in c:\\users\\admin\\anaconda3\\envs\\ml_learning\\lib\\site-packages (from python-dateutil>=2.8.2->pandas) (1.16.0)\n",
      "Requirement already satisfied: tensorflow_cpu in c:\\users\\admin\\anaconda3\\envs\\ml_learning\\lib\\site-packages (2.13.0)\n",
      "Requirement already satisfied: tensorflow-intel==2.13.0 in c:\\users\\admin\\anaconda3\\envs\\ml_learning\\lib\\site-packages (from tensorflow_cpu) (2.13.0)\n",
      "Requirement already satisfied: absl-py>=1.0.0 in c:\\users\\admin\\anaconda3\\envs\\ml_learning\\lib\\site-packages (from tensorflow-intel==2.13.0->tensorflow_cpu) (2.3.0)\n",
      "Requirement already satisfied: astunparse>=1.6.0 in c:\\users\\admin\\anaconda3\\envs\\ml_learning\\lib\\site-packages (from tensorflow-intel==2.13.0->tensorflow_cpu) (1.6.3)\n",
      "Requirement already satisfied: flatbuffers>=23.1.21 in c:\\users\\admin\\anaconda3\\envs\\ml_learning\\lib\\site-packages (from tensorflow-intel==2.13.0->tensorflow_cpu) (25.2.10)\n",
      "Requirement already satisfied: gast<=0.4.0,>=0.2.1 in c:\\users\\admin\\anaconda3\\envs\\ml_learning\\lib\\site-packages (from tensorflow-intel==2.13.0->tensorflow_cpu) (0.4.0)\n",
      "Requirement already satisfied: google-pasta>=0.1.1 in c:\\users\\admin\\anaconda3\\envs\\ml_learning\\lib\\site-packages (from tensorflow-intel==2.13.0->tensorflow_cpu) (0.2.0)\n",
      "Requirement already satisfied: h5py>=2.9.0 in c:\\users\\admin\\anaconda3\\envs\\ml_learning\\lib\\site-packages (from tensorflow-intel==2.13.0->tensorflow_cpu) (3.11.0)\n",
      "Requirement already satisfied: libclang>=13.0.0 in c:\\users\\admin\\anaconda3\\envs\\ml_learning\\lib\\site-packages (from tensorflow-intel==2.13.0->tensorflow_cpu) (18.1.1)\n",
      "Requirement already satisfied: numpy<=1.24.3,>=1.22 in c:\\users\\admin\\anaconda3\\envs\\ml_learning\\lib\\site-packages (from tensorflow-intel==2.13.0->tensorflow_cpu) (1.24.3)\n",
      "Requirement already satisfied: opt-einsum>=2.3.2 in c:\\users\\admin\\anaconda3\\envs\\ml_learning\\lib\\site-packages (from tensorflow-intel==2.13.0->tensorflow_cpu) (3.4.0)\n",
      "Requirement already satisfied: packaging in c:\\users\\admin\\anaconda3\\envs\\ml_learning\\lib\\site-packages (from tensorflow-intel==2.13.0->tensorflow_cpu) (24.2)\n",
      "Requirement already satisfied: protobuf!=4.21.0,!=4.21.1,!=4.21.2,!=4.21.3,!=4.21.4,!=4.21.5,<5.0.0dev,>=3.20.3 in c:\\users\\admin\\anaconda3\\envs\\ml_learning\\lib\\site-packages (from tensorflow-intel==2.13.0->tensorflow_cpu) (4.25.8)\n",
      "Requirement already satisfied: setuptools in c:\\users\\admin\\anaconda3\\envs\\ml_learning\\lib\\site-packages (from tensorflow-intel==2.13.0->tensorflow_cpu) (75.1.0)\n",
      "Requirement already satisfied: six>=1.12.0 in c:\\users\\admin\\anaconda3\\envs\\ml_learning\\lib\\site-packages (from tensorflow-intel==2.13.0->tensorflow_cpu) (1.16.0)\n",
      "Requirement already satisfied: termcolor>=1.1.0 in c:\\users\\admin\\anaconda3\\envs\\ml_learning\\lib\\site-packages (from tensorflow-intel==2.13.0->tensorflow_cpu) (2.4.0)\n",
      "Requirement already satisfied: typing-extensions<4.6.0,>=3.6.6 in c:\\users\\admin\\anaconda3\\envs\\ml_learning\\lib\\site-packages (from tensorflow-intel==2.13.0->tensorflow_cpu) (4.5.0)\n",
      "Requirement already satisfied: wrapt>=1.11.0 in c:\\users\\admin\\anaconda3\\envs\\ml_learning\\lib\\site-packages (from tensorflow-intel==2.13.0->tensorflow_cpu) (1.17.2)\n",
      "Requirement already satisfied: grpcio<2.0,>=1.24.3 in c:\\users\\admin\\anaconda3\\envs\\ml_learning\\lib\\site-packages (from tensorflow-intel==2.13.0->tensorflow_cpu) (1.70.0)\n",
      "Requirement already satisfied: tensorboard<2.14,>=2.13 in c:\\users\\admin\\anaconda3\\envs\\ml_learning\\lib\\site-packages (from tensorflow-intel==2.13.0->tensorflow_cpu) (2.13.0)\n",
      "Requirement already satisfied: tensorflow-estimator<2.14,>=2.13.0 in c:\\users\\admin\\anaconda3\\envs\\ml_learning\\lib\\site-packages (from tensorflow-intel==2.13.0->tensorflow_cpu) (2.13.0)\n",
      "Requirement already satisfied: keras<2.14,>=2.13.1 in c:\\users\\admin\\anaconda3\\envs\\ml_learning\\lib\\site-packages (from tensorflow-intel==2.13.0->tensorflow_cpu) (2.13.1)\n",
      "Requirement already satisfied: tensorflow-io-gcs-filesystem>=0.23.1 in c:\\users\\admin\\anaconda3\\envs\\ml_learning\\lib\\site-packages (from tensorflow-intel==2.13.0->tensorflow_cpu) (0.31.0)\n",
      "Requirement already satisfied: wheel<1.0,>=0.23.0 in c:\\users\\admin\\anaconda3\\envs\\ml_learning\\lib\\site-packages (from astunparse>=1.6.0->tensorflow-intel==2.13.0->tensorflow_cpu) (0.44.0)\n",
      "Requirement already satisfied: google-auth<3,>=1.6.3 in c:\\users\\admin\\anaconda3\\envs\\ml_learning\\lib\\site-packages (from tensorboard<2.14,>=2.13->tensorflow-intel==2.13.0->tensorflow_cpu) (2.40.2)\n",
      "Requirement already satisfied: google-auth-oauthlib<1.1,>=0.5 in c:\\users\\admin\\anaconda3\\envs\\ml_learning\\lib\\site-packages (from tensorboard<2.14,>=2.13->tensorflow-intel==2.13.0->tensorflow_cpu) (1.0.0)\n",
      "Requirement already satisfied: markdown>=2.6.8 in c:\\users\\admin\\anaconda3\\envs\\ml_learning\\lib\\site-packages (from tensorboard<2.14,>=2.13->tensorflow-intel==2.13.0->tensorflow_cpu) (3.7)\n",
      "Requirement already satisfied: requests<3,>=2.21.0 in c:\\users\\admin\\anaconda3\\envs\\ml_learning\\lib\\site-packages (from tensorboard<2.14,>=2.13->tensorflow-intel==2.13.0->tensorflow_cpu) (2.32.3)\n",
      "Requirement already satisfied: tensorboard-data-server<0.8.0,>=0.7.0 in c:\\users\\admin\\anaconda3\\envs\\ml_learning\\lib\\site-packages (from tensorboard<2.14,>=2.13->tensorflow-intel==2.13.0->tensorflow_cpu) (0.7.2)\n",
      "Requirement already satisfied: werkzeug>=1.0.1 in c:\\users\\admin\\anaconda3\\envs\\ml_learning\\lib\\site-packages (from tensorboard<2.14,>=2.13->tensorflow-intel==2.13.0->tensorflow_cpu) (3.0.6)\n",
      "Requirement already satisfied: cachetools<6.0,>=2.0.0 in c:\\users\\admin\\anaconda3\\envs\\ml_learning\\lib\\site-packages (from google-auth<3,>=1.6.3->tensorboard<2.14,>=2.13->tensorflow-intel==2.13.0->tensorflow_cpu) (5.5.2)\n",
      "Requirement already satisfied: pyasn1-modules>=0.2.1 in c:\\users\\admin\\anaconda3\\envs\\ml_learning\\lib\\site-packages (from google-auth<3,>=1.6.3->tensorboard<2.14,>=2.13->tensorflow-intel==2.13.0->tensorflow_cpu) (0.4.2)\n",
      "Requirement already satisfied: rsa<5,>=3.1.4 in c:\\users\\admin\\anaconda3\\envs\\ml_learning\\lib\\site-packages (from google-auth<3,>=1.6.3->tensorboard<2.14,>=2.13->tensorflow-intel==2.13.0->tensorflow_cpu) (4.9.1)\n",
      "Requirement already satisfied: requests-oauthlib>=0.7.0 in c:\\users\\admin\\anaconda3\\envs\\ml_learning\\lib\\site-packages (from google-auth-oauthlib<1.1,>=0.5->tensorboard<2.14,>=2.13->tensorflow-intel==2.13.0->tensorflow_cpu) (2.0.0)\n",
      "Requirement already satisfied: importlib-metadata>=4.4 in c:\\users\\admin\\anaconda3\\envs\\ml_learning\\lib\\site-packages (from markdown>=2.6.8->tensorboard<2.14,>=2.13->tensorflow-intel==2.13.0->tensorflow_cpu) (8.5.0)\n",
      "Requirement already satisfied: charset-normalizer<4,>=2 in c:\\users\\admin\\anaconda3\\envs\\ml_learning\\lib\\site-packages (from requests<3,>=2.21.0->tensorboard<2.14,>=2.13->tensorflow-intel==2.13.0->tensorflow_cpu) (3.4.0)\n",
      "Requirement already satisfied: idna<4,>=2.5 in c:\\users\\admin\\anaconda3\\envs\\ml_learning\\lib\\site-packages (from requests<3,>=2.21.0->tensorboard<2.14,>=2.13->tensorflow-intel==2.13.0->tensorflow_cpu) (3.10)\n",
      "Requirement already satisfied: urllib3<3,>=1.21.1 in c:\\users\\admin\\anaconda3\\envs\\ml_learning\\lib\\site-packages (from requests<3,>=2.21.0->tensorboard<2.14,>=2.13->tensorflow-intel==2.13.0->tensorflow_cpu) (2.2.3)\n",
      "Requirement already satisfied: certifi>=2017.4.17 in c:\\users\\admin\\anaconda3\\envs\\ml_learning\\lib\\site-packages (from requests<3,>=2.21.0->tensorboard<2.14,>=2.13->tensorflow-intel==2.13.0->tensorflow_cpu) (2024.8.30)\n",
      "Requirement already satisfied: MarkupSafe>=2.1.1 in c:\\users\\admin\\anaconda3\\envs\\ml_learning\\lib\\site-packages (from werkzeug>=1.0.1->tensorboard<2.14,>=2.13->tensorflow-intel==2.13.0->tensorflow_cpu) (2.1.5)\n",
      "Requirement already satisfied: zipp>=3.20 in c:\\users\\admin\\anaconda3\\envs\\ml_learning\\lib\\site-packages (from importlib-metadata>=4.4->markdown>=2.6.8->tensorboard<2.14,>=2.13->tensorflow-intel==2.13.0->tensorflow_cpu) (3.21.0)\n",
      "Requirement already satisfied: pyasn1<0.7.0,>=0.6.1 in c:\\users\\admin\\anaconda3\\envs\\ml_learning\\lib\\site-packages (from pyasn1-modules>=0.2.1->google-auth<3,>=1.6.3->tensorboard<2.14,>=2.13->tensorflow-intel==2.13.0->tensorflow_cpu) (0.6.1)\n",
      "Requirement already satisfied: oauthlib>=3.0.0 in c:\\users\\admin\\anaconda3\\envs\\ml_learning\\lib\\site-packages (from requests-oauthlib>=0.7.0->google-auth-oauthlib<1.1,>=0.5->tensorboard<2.14,>=2.13->tensorflow-intel==2.13.0->tensorflow_cpu) (3.2.2)\n",
      "Note: you may need to restart the kernel to use updated packages.\n"
     ]
    }
   ],
   "source": [
    "# All Libraries required for this lab are listed below. \n",
    "\n",
    "%pip install numpy\n",
    "%pip install pandas\n",
    "%pip install tensorflow_cpu\n"
   ]
  },
  {
   "cell_type": "markdown",
   "metadata": {},
   "source": [
    "#### To use Keras, you will also need to install a backend framework – such as TensorFlow.\n",
    "\n",
    "If you install TensorFlow 2.16 or above, it will install Keras by default.\n",
    "\n",
    "We are using the CPU version of tensorflow since we are dealing with smaller datasets. \n",
    "You may install the GPU version of tensorflow on your machine to accelarate the processing of larger datasets\n"
   ]
  },
  {
   "cell_type": "markdown",
   "metadata": {},
   "source": [
    "#### Suppress the tensorflow warning messages\n",
    "We use the following code to  suppress the warning messages due to use of CPU architechture for tensoflow.\n",
    "\n",
    "You may want to **comment out** these lines if you are using the GPU architechture\n"
   ]
  },
  {
   "cell_type": "code",
   "execution_count": 2,
   "metadata": {},
   "outputs": [],
   "source": [
    "import os\n",
    "os.environ['TF_ENABLE_ONEDNN_OPTS'] = '0'\n",
    "os.environ['TF_CPP_MIN_LOG_LEVEL'] = '2'"
   ]
  },
  {
   "cell_type": "code",
   "execution_count": 3,
   "metadata": {},
   "outputs": [],
   "source": [
    "import pandas as pd\n",
    "import numpy as np\n",
    "import keras\n",
    "\n",
    "import warnings\n",
    "warnings.simplefilter('ignore', FutureWarning)"
   ]
  },
  {
   "cell_type": "markdown",
   "metadata": {},
   "source": [
    "We will be playing around with the same dataset that we used in the videos.\n",
    "\n",
    "<strong>The dataset is about the compressive strength of different samples of concrete based on the volumes of the different ingredients that were used to make them. Ingredients include:</strong>\n",
    "\n",
    "* Cement\n",
    "* Blast furnace slag\n",
    "* Fly ash\n",
    "* Water\n",
    "* Superplasticizer\n",
    "* Coarse aggregate\n",
    "* Fine aggregate\n"
   ]
  },
  {
   "cell_type": "markdown",
   "metadata": {},
   "source": [
    "## Download and Clean the Data Set\n"
   ]
  },
  {
   "cell_type": "markdown",
   "metadata": {},
   "source": [
    "Let's download the data and read it into a <em>pandas</em> dataframe.\n"
   ]
  },
  {
   "cell_type": "code",
   "execution_count": 4,
   "metadata": {},
   "outputs": [
    {
     "data": {
      "text/html": [
       "<div>\n",
       "<style scoped>\n",
       "    .dataframe tbody tr th:only-of-type {\n",
       "        vertical-align: middle;\n",
       "    }\n",
       "\n",
       "    .dataframe tbody tr th {\n",
       "        vertical-align: top;\n",
       "    }\n",
       "\n",
       "    .dataframe thead th {\n",
       "        text-align: right;\n",
       "    }\n",
       "</style>\n",
       "<table border=\"1\" class=\"dataframe\">\n",
       "  <thead>\n",
       "    <tr style=\"text-align: right;\">\n",
       "      <th></th>\n",
       "      <th>Cement</th>\n",
       "      <th>Blast Furnace Slag</th>\n",
       "      <th>Fly Ash</th>\n",
       "      <th>Water</th>\n",
       "      <th>Superplasticizer</th>\n",
       "      <th>Coarse Aggregate</th>\n",
       "      <th>Fine Aggregate</th>\n",
       "      <th>Age</th>\n",
       "      <th>Strength</th>\n",
       "    </tr>\n",
       "  </thead>\n",
       "  <tbody>\n",
       "    <tr>\n",
       "      <th>0</th>\n",
       "      <td>540.0</td>\n",
       "      <td>0.0</td>\n",
       "      <td>0.0</td>\n",
       "      <td>162.0</td>\n",
       "      <td>2.5</td>\n",
       "      <td>1040.0</td>\n",
       "      <td>676.0</td>\n",
       "      <td>28</td>\n",
       "      <td>79.99</td>\n",
       "    </tr>\n",
       "    <tr>\n",
       "      <th>1</th>\n",
       "      <td>540.0</td>\n",
       "      <td>0.0</td>\n",
       "      <td>0.0</td>\n",
       "      <td>162.0</td>\n",
       "      <td>2.5</td>\n",
       "      <td>1055.0</td>\n",
       "      <td>676.0</td>\n",
       "      <td>28</td>\n",
       "      <td>61.89</td>\n",
       "    </tr>\n",
       "    <tr>\n",
       "      <th>2</th>\n",
       "      <td>332.5</td>\n",
       "      <td>142.5</td>\n",
       "      <td>0.0</td>\n",
       "      <td>228.0</td>\n",
       "      <td>0.0</td>\n",
       "      <td>932.0</td>\n",
       "      <td>594.0</td>\n",
       "      <td>270</td>\n",
       "      <td>40.27</td>\n",
       "    </tr>\n",
       "    <tr>\n",
       "      <th>3</th>\n",
       "      <td>332.5</td>\n",
       "      <td>142.5</td>\n",
       "      <td>0.0</td>\n",
       "      <td>228.0</td>\n",
       "      <td>0.0</td>\n",
       "      <td>932.0</td>\n",
       "      <td>594.0</td>\n",
       "      <td>365</td>\n",
       "      <td>41.05</td>\n",
       "    </tr>\n",
       "    <tr>\n",
       "      <th>4</th>\n",
       "      <td>198.6</td>\n",
       "      <td>132.4</td>\n",
       "      <td>0.0</td>\n",
       "      <td>192.0</td>\n",
       "      <td>0.0</td>\n",
       "      <td>978.4</td>\n",
       "      <td>825.5</td>\n",
       "      <td>360</td>\n",
       "      <td>44.30</td>\n",
       "    </tr>\n",
       "  </tbody>\n",
       "</table>\n",
       "</div>"
      ],
      "text/plain": [
       "   Cement  Blast Furnace Slag  Fly Ash  Water  Superplasticizer  \\\n",
       "0   540.0                 0.0      0.0  162.0               2.5   \n",
       "1   540.0                 0.0      0.0  162.0               2.5   \n",
       "2   332.5               142.5      0.0  228.0               0.0   \n",
       "3   332.5               142.5      0.0  228.0               0.0   \n",
       "4   198.6               132.4      0.0  192.0               0.0   \n",
       "\n",
       "   Coarse Aggregate  Fine Aggregate  Age  Strength  \n",
       "0            1040.0           676.0   28     79.99  \n",
       "1            1055.0           676.0   28     61.89  \n",
       "2             932.0           594.0  270     40.27  \n",
       "3             932.0           594.0  365     41.05  \n",
       "4             978.4           825.5  360     44.30  "
      ]
     },
     "execution_count": 4,
     "metadata": {},
     "output_type": "execute_result"
    }
   ],
   "source": [
    "filepath='https://s3-api.us-geo.objectstorage.softlayer.net/cf-courses-data/CognitiveClass/DL0101EN/labs/data/concrete_data.csv'\n",
    "concrete_data = pd.read_csv(filepath)\n",
    "\n",
    "concrete_data.head()"
   ]
  },
  {
   "cell_type": "markdown",
   "metadata": {},
   "source": [
    "So the first concrete sample has 540 cubic meter of cement, 0 cubic meter of blast furnace slag, 0 cubic meter of fly ash, 162 cubic meter of water, 2.5 cubic meter of superplaticizer, 1040 cubic meter of coarse aggregate, 676 cubic meter of fine aggregate. Such a concrete mix which is 28 days old, has a compressive strength of 79.99 MPa. \n"
   ]
  },
  {
   "cell_type": "markdown",
   "metadata": {},
   "source": [
    "#### Let's check how many data points we have\n"
   ]
  },
  {
   "cell_type": "code",
   "execution_count": 5,
   "metadata": {},
   "outputs": [
    {
     "data": {
      "text/plain": [
       "(1030, 9)"
      ]
     },
     "execution_count": 5,
     "metadata": {},
     "output_type": "execute_result"
    }
   ],
   "source": [
    "concrete_data.shape"
   ]
  },
  {
   "cell_type": "markdown",
   "metadata": {},
   "source": [
    "So, there are approximately 1000 samples to train our model on. Because of the few samples, we have to be careful not to overfit the training data.\n"
   ]
  },
  {
   "cell_type": "markdown",
   "metadata": {},
   "source": [
    "Let's check the dataset for any missing values.\n"
   ]
  },
  {
   "cell_type": "code",
   "execution_count": 6,
   "metadata": {},
   "outputs": [
    {
     "data": {
      "text/html": [
       "<div>\n",
       "<style scoped>\n",
       "    .dataframe tbody tr th:only-of-type {\n",
       "        vertical-align: middle;\n",
       "    }\n",
       "\n",
       "    .dataframe tbody tr th {\n",
       "        vertical-align: top;\n",
       "    }\n",
       "\n",
       "    .dataframe thead th {\n",
       "        text-align: right;\n",
       "    }\n",
       "</style>\n",
       "<table border=\"1\" class=\"dataframe\">\n",
       "  <thead>\n",
       "    <tr style=\"text-align: right;\">\n",
       "      <th></th>\n",
       "      <th>Cement</th>\n",
       "      <th>Blast Furnace Slag</th>\n",
       "      <th>Fly Ash</th>\n",
       "      <th>Water</th>\n",
       "      <th>Superplasticizer</th>\n",
       "      <th>Coarse Aggregate</th>\n",
       "      <th>Fine Aggregate</th>\n",
       "      <th>Age</th>\n",
       "      <th>Strength</th>\n",
       "    </tr>\n",
       "  </thead>\n",
       "  <tbody>\n",
       "    <tr>\n",
       "      <th>count</th>\n",
       "      <td>1030.000000</td>\n",
       "      <td>1030.000000</td>\n",
       "      <td>1030.000000</td>\n",
       "      <td>1030.000000</td>\n",
       "      <td>1030.000000</td>\n",
       "      <td>1030.000000</td>\n",
       "      <td>1030.000000</td>\n",
       "      <td>1030.000000</td>\n",
       "      <td>1030.000000</td>\n",
       "    </tr>\n",
       "    <tr>\n",
       "      <th>mean</th>\n",
       "      <td>281.167864</td>\n",
       "      <td>73.895825</td>\n",
       "      <td>54.188350</td>\n",
       "      <td>181.567282</td>\n",
       "      <td>6.204660</td>\n",
       "      <td>972.918932</td>\n",
       "      <td>773.580485</td>\n",
       "      <td>45.662136</td>\n",
       "      <td>35.817961</td>\n",
       "    </tr>\n",
       "    <tr>\n",
       "      <th>std</th>\n",
       "      <td>104.506364</td>\n",
       "      <td>86.279342</td>\n",
       "      <td>63.997004</td>\n",
       "      <td>21.354219</td>\n",
       "      <td>5.973841</td>\n",
       "      <td>77.753954</td>\n",
       "      <td>80.175980</td>\n",
       "      <td>63.169912</td>\n",
       "      <td>16.705742</td>\n",
       "    </tr>\n",
       "    <tr>\n",
       "      <th>min</th>\n",
       "      <td>102.000000</td>\n",
       "      <td>0.000000</td>\n",
       "      <td>0.000000</td>\n",
       "      <td>121.800000</td>\n",
       "      <td>0.000000</td>\n",
       "      <td>801.000000</td>\n",
       "      <td>594.000000</td>\n",
       "      <td>1.000000</td>\n",
       "      <td>2.330000</td>\n",
       "    </tr>\n",
       "    <tr>\n",
       "      <th>25%</th>\n",
       "      <td>192.375000</td>\n",
       "      <td>0.000000</td>\n",
       "      <td>0.000000</td>\n",
       "      <td>164.900000</td>\n",
       "      <td>0.000000</td>\n",
       "      <td>932.000000</td>\n",
       "      <td>730.950000</td>\n",
       "      <td>7.000000</td>\n",
       "      <td>23.710000</td>\n",
       "    </tr>\n",
       "    <tr>\n",
       "      <th>50%</th>\n",
       "      <td>272.900000</td>\n",
       "      <td>22.000000</td>\n",
       "      <td>0.000000</td>\n",
       "      <td>185.000000</td>\n",
       "      <td>6.400000</td>\n",
       "      <td>968.000000</td>\n",
       "      <td>779.500000</td>\n",
       "      <td>28.000000</td>\n",
       "      <td>34.445000</td>\n",
       "    </tr>\n",
       "    <tr>\n",
       "      <th>75%</th>\n",
       "      <td>350.000000</td>\n",
       "      <td>142.950000</td>\n",
       "      <td>118.300000</td>\n",
       "      <td>192.000000</td>\n",
       "      <td>10.200000</td>\n",
       "      <td>1029.400000</td>\n",
       "      <td>824.000000</td>\n",
       "      <td>56.000000</td>\n",
       "      <td>46.135000</td>\n",
       "    </tr>\n",
       "    <tr>\n",
       "      <th>max</th>\n",
       "      <td>540.000000</td>\n",
       "      <td>359.400000</td>\n",
       "      <td>200.100000</td>\n",
       "      <td>247.000000</td>\n",
       "      <td>32.200000</td>\n",
       "      <td>1145.000000</td>\n",
       "      <td>992.600000</td>\n",
       "      <td>365.000000</td>\n",
       "      <td>82.600000</td>\n",
       "    </tr>\n",
       "  </tbody>\n",
       "</table>\n",
       "</div>"
      ],
      "text/plain": [
       "            Cement  Blast Furnace Slag      Fly Ash        Water  \\\n",
       "count  1030.000000         1030.000000  1030.000000  1030.000000   \n",
       "mean    281.167864           73.895825    54.188350   181.567282   \n",
       "std     104.506364           86.279342    63.997004    21.354219   \n",
       "min     102.000000            0.000000     0.000000   121.800000   \n",
       "25%     192.375000            0.000000     0.000000   164.900000   \n",
       "50%     272.900000           22.000000     0.000000   185.000000   \n",
       "75%     350.000000          142.950000   118.300000   192.000000   \n",
       "max     540.000000          359.400000   200.100000   247.000000   \n",
       "\n",
       "       Superplasticizer  Coarse Aggregate  Fine Aggregate          Age  \\\n",
       "count       1030.000000       1030.000000     1030.000000  1030.000000   \n",
       "mean           6.204660        972.918932      773.580485    45.662136   \n",
       "std            5.973841         77.753954       80.175980    63.169912   \n",
       "min            0.000000        801.000000      594.000000     1.000000   \n",
       "25%            0.000000        932.000000      730.950000     7.000000   \n",
       "50%            6.400000        968.000000      779.500000    28.000000   \n",
       "75%           10.200000       1029.400000      824.000000    56.000000   \n",
       "max           32.200000       1145.000000      992.600000   365.000000   \n",
       "\n",
       "          Strength  \n",
       "count  1030.000000  \n",
       "mean     35.817961  \n",
       "std      16.705742  \n",
       "min       2.330000  \n",
       "25%      23.710000  \n",
       "50%      34.445000  \n",
       "75%      46.135000  \n",
       "max      82.600000  "
      ]
     },
     "execution_count": 6,
     "metadata": {},
     "output_type": "execute_result"
    }
   ],
   "source": [
    "concrete_data.describe()"
   ]
  },
  {
   "cell_type": "code",
   "execution_count": 7,
   "metadata": {},
   "outputs": [
    {
     "data": {
      "text/plain": [
       "Cement                0\n",
       "Blast Furnace Slag    0\n",
       "Fly Ash               0\n",
       "Water                 0\n",
       "Superplasticizer      0\n",
       "Coarse Aggregate      0\n",
       "Fine Aggregate        0\n",
       "Age                   0\n",
       "Strength              0\n",
       "dtype: int64"
      ]
     },
     "execution_count": 7,
     "metadata": {},
     "output_type": "execute_result"
    }
   ],
   "source": [
    "concrete_data.isnull().sum()"
   ]
  },
  {
   "cell_type": "markdown",
   "metadata": {},
   "source": [
    "The data looks very clean and is ready to be used to build our model.\n"
   ]
  },
  {
   "cell_type": "markdown",
   "metadata": {},
   "source": [
    "#### Split data into predictors and target\n"
   ]
  },
  {
   "cell_type": "markdown",
   "metadata": {},
   "source": [
    "The target variable in this problem is the concrete sample strength. Therefore, our predictors will be all the other columns.\n"
   ]
  },
  {
   "cell_type": "code",
   "execution_count": 8,
   "metadata": {},
   "outputs": [],
   "source": [
    "concrete_data_columns = concrete_data.columns"
   ]
  },
  {
   "cell_type": "code",
   "execution_count": 9,
   "metadata": {},
   "outputs": [],
   "source": [
    "predictors = concrete_data[concrete_data_columns[concrete_data_columns != 'Strength']] # all columns except Strength\n",
    "target = concrete_data['Strength'] # Strength column"
   ]
  },
  {
   "cell_type": "markdown",
   "metadata": {},
   "source": [
    "<a id=\"item2\"></a>\n"
   ]
  },
  {
   "cell_type": "markdown",
   "metadata": {},
   "source": [
    "Let's do a quick sanity check of the predictors and the target dataframes.\n"
   ]
  },
  {
   "cell_type": "code",
   "execution_count": 10,
   "metadata": {},
   "outputs": [
    {
     "data": {
      "text/html": [
       "<div>\n",
       "<style scoped>\n",
       "    .dataframe tbody tr th:only-of-type {\n",
       "        vertical-align: middle;\n",
       "    }\n",
       "\n",
       "    .dataframe tbody tr th {\n",
       "        vertical-align: top;\n",
       "    }\n",
       "\n",
       "    .dataframe thead th {\n",
       "        text-align: right;\n",
       "    }\n",
       "</style>\n",
       "<table border=\"1\" class=\"dataframe\">\n",
       "  <thead>\n",
       "    <tr style=\"text-align: right;\">\n",
       "      <th></th>\n",
       "      <th>Cement</th>\n",
       "      <th>Blast Furnace Slag</th>\n",
       "      <th>Fly Ash</th>\n",
       "      <th>Water</th>\n",
       "      <th>Superplasticizer</th>\n",
       "      <th>Coarse Aggregate</th>\n",
       "      <th>Fine Aggregate</th>\n",
       "      <th>Age</th>\n",
       "    </tr>\n",
       "  </thead>\n",
       "  <tbody>\n",
       "    <tr>\n",
       "      <th>0</th>\n",
       "      <td>540.0</td>\n",
       "      <td>0.0</td>\n",
       "      <td>0.0</td>\n",
       "      <td>162.0</td>\n",
       "      <td>2.5</td>\n",
       "      <td>1040.0</td>\n",
       "      <td>676.0</td>\n",
       "      <td>28</td>\n",
       "    </tr>\n",
       "    <tr>\n",
       "      <th>1</th>\n",
       "      <td>540.0</td>\n",
       "      <td>0.0</td>\n",
       "      <td>0.0</td>\n",
       "      <td>162.0</td>\n",
       "      <td>2.5</td>\n",
       "      <td>1055.0</td>\n",
       "      <td>676.0</td>\n",
       "      <td>28</td>\n",
       "    </tr>\n",
       "    <tr>\n",
       "      <th>2</th>\n",
       "      <td>332.5</td>\n",
       "      <td>142.5</td>\n",
       "      <td>0.0</td>\n",
       "      <td>228.0</td>\n",
       "      <td>0.0</td>\n",
       "      <td>932.0</td>\n",
       "      <td>594.0</td>\n",
       "      <td>270</td>\n",
       "    </tr>\n",
       "    <tr>\n",
       "      <th>3</th>\n",
       "      <td>332.5</td>\n",
       "      <td>142.5</td>\n",
       "      <td>0.0</td>\n",
       "      <td>228.0</td>\n",
       "      <td>0.0</td>\n",
       "      <td>932.0</td>\n",
       "      <td>594.0</td>\n",
       "      <td>365</td>\n",
       "    </tr>\n",
       "    <tr>\n",
       "      <th>4</th>\n",
       "      <td>198.6</td>\n",
       "      <td>132.4</td>\n",
       "      <td>0.0</td>\n",
       "      <td>192.0</td>\n",
       "      <td>0.0</td>\n",
       "      <td>978.4</td>\n",
       "      <td>825.5</td>\n",
       "      <td>360</td>\n",
       "    </tr>\n",
       "  </tbody>\n",
       "</table>\n",
       "</div>"
      ],
      "text/plain": [
       "   Cement  Blast Furnace Slag  Fly Ash  Water  Superplasticizer  \\\n",
       "0   540.0                 0.0      0.0  162.0               2.5   \n",
       "1   540.0                 0.0      0.0  162.0               2.5   \n",
       "2   332.5               142.5      0.0  228.0               0.0   \n",
       "3   332.5               142.5      0.0  228.0               0.0   \n",
       "4   198.6               132.4      0.0  192.0               0.0   \n",
       "\n",
       "   Coarse Aggregate  Fine Aggregate  Age  \n",
       "0            1040.0           676.0   28  \n",
       "1            1055.0           676.0   28  \n",
       "2             932.0           594.0  270  \n",
       "3             932.0           594.0  365  \n",
       "4             978.4           825.5  360  "
      ]
     },
     "execution_count": 10,
     "metadata": {},
     "output_type": "execute_result"
    }
   ],
   "source": [
    "predictors.head()"
   ]
  },
  {
   "cell_type": "code",
   "execution_count": 11,
   "metadata": {},
   "outputs": [
    {
     "data": {
      "text/plain": [
       "0    79.99\n",
       "1    61.89\n",
       "2    40.27\n",
       "3    41.05\n",
       "4    44.30\n",
       "Name: Strength, dtype: float64"
      ]
     },
     "execution_count": 11,
     "metadata": {},
     "output_type": "execute_result"
    }
   ],
   "source": [
    "target.head()"
   ]
  },
  {
   "cell_type": "markdown",
   "metadata": {},
   "source": [
    "Finally, the last step is to normalize the data by substracting the mean and dividing by the standard deviation.\n"
   ]
  },
  {
   "cell_type": "code",
   "execution_count": 12,
   "metadata": {},
   "outputs": [
    {
     "data": {
      "text/html": [
       "<div>\n",
       "<style scoped>\n",
       "    .dataframe tbody tr th:only-of-type {\n",
       "        vertical-align: middle;\n",
       "    }\n",
       "\n",
       "    .dataframe tbody tr th {\n",
       "        vertical-align: top;\n",
       "    }\n",
       "\n",
       "    .dataframe thead th {\n",
       "        text-align: right;\n",
       "    }\n",
       "</style>\n",
       "<table border=\"1\" class=\"dataframe\">\n",
       "  <thead>\n",
       "    <tr style=\"text-align: right;\">\n",
       "      <th></th>\n",
       "      <th>Cement</th>\n",
       "      <th>Blast Furnace Slag</th>\n",
       "      <th>Fly Ash</th>\n",
       "      <th>Water</th>\n",
       "      <th>Superplasticizer</th>\n",
       "      <th>Coarse Aggregate</th>\n",
       "      <th>Fine Aggregate</th>\n",
       "      <th>Age</th>\n",
       "    </tr>\n",
       "  </thead>\n",
       "  <tbody>\n",
       "    <tr>\n",
       "      <th>0</th>\n",
       "      <td>2.476712</td>\n",
       "      <td>-0.856472</td>\n",
       "      <td>-0.846733</td>\n",
       "      <td>-0.916319</td>\n",
       "      <td>-0.620147</td>\n",
       "      <td>0.862735</td>\n",
       "      <td>-1.217079</td>\n",
       "      <td>-0.279597</td>\n",
       "    </tr>\n",
       "    <tr>\n",
       "      <th>1</th>\n",
       "      <td>2.476712</td>\n",
       "      <td>-0.856472</td>\n",
       "      <td>-0.846733</td>\n",
       "      <td>-0.916319</td>\n",
       "      <td>-0.620147</td>\n",
       "      <td>1.055651</td>\n",
       "      <td>-1.217079</td>\n",
       "      <td>-0.279597</td>\n",
       "    </tr>\n",
       "    <tr>\n",
       "      <th>2</th>\n",
       "      <td>0.491187</td>\n",
       "      <td>0.795140</td>\n",
       "      <td>-0.846733</td>\n",
       "      <td>2.174405</td>\n",
       "      <td>-1.038638</td>\n",
       "      <td>-0.526262</td>\n",
       "      <td>-2.239829</td>\n",
       "      <td>3.551340</td>\n",
       "    </tr>\n",
       "    <tr>\n",
       "      <th>3</th>\n",
       "      <td>0.491187</td>\n",
       "      <td>0.795140</td>\n",
       "      <td>-0.846733</td>\n",
       "      <td>2.174405</td>\n",
       "      <td>-1.038638</td>\n",
       "      <td>-0.526262</td>\n",
       "      <td>-2.239829</td>\n",
       "      <td>5.055221</td>\n",
       "    </tr>\n",
       "    <tr>\n",
       "      <th>4</th>\n",
       "      <td>-0.790075</td>\n",
       "      <td>0.678079</td>\n",
       "      <td>-0.846733</td>\n",
       "      <td>0.488555</td>\n",
       "      <td>-1.038638</td>\n",
       "      <td>0.070492</td>\n",
       "      <td>0.647569</td>\n",
       "      <td>4.976069</td>\n",
       "    </tr>\n",
       "  </tbody>\n",
       "</table>\n",
       "</div>"
      ],
      "text/plain": [
       "     Cement  Blast Furnace Slag   Fly Ash     Water  Superplasticizer  \\\n",
       "0  2.476712           -0.856472 -0.846733 -0.916319         -0.620147   \n",
       "1  2.476712           -0.856472 -0.846733 -0.916319         -0.620147   \n",
       "2  0.491187            0.795140 -0.846733  2.174405         -1.038638   \n",
       "3  0.491187            0.795140 -0.846733  2.174405         -1.038638   \n",
       "4 -0.790075            0.678079 -0.846733  0.488555         -1.038638   \n",
       "\n",
       "   Coarse Aggregate  Fine Aggregate       Age  \n",
       "0          0.862735       -1.217079 -0.279597  \n",
       "1          1.055651       -1.217079 -0.279597  \n",
       "2         -0.526262       -2.239829  3.551340  \n",
       "3         -0.526262       -2.239829  5.055221  \n",
       "4          0.070492        0.647569  4.976069  "
      ]
     },
     "execution_count": 12,
     "metadata": {},
     "output_type": "execute_result"
    }
   ],
   "source": [
    "predictors_norm = (predictors - predictors.mean()) / predictors.std()\n",
    "predictors_norm.head()"
   ]
  },
  {
   "cell_type": "markdown",
   "metadata": {},
   "source": [
    "Let's save the number of predictors to *n_cols* since we will need this number when building our network.\n"
   ]
  },
  {
   "cell_type": "code",
   "execution_count": 13,
   "metadata": {},
   "outputs": [
    {
     "data": {
      "text/plain": [
       "8"
      ]
     },
     "execution_count": 13,
     "metadata": {},
     "output_type": "execute_result"
    }
   ],
   "source": [
    "n_cols = predictors_norm.shape[1] # number of predictors\n",
    "n_cols"
   ]
  },
  {
   "cell_type": "markdown",
   "metadata": {},
   "source": [
    "<a id=\"item1\"></a>\n"
   ]
  },
  {
   "cell_type": "markdown",
   "metadata": {},
   "source": [
    "##  Import Keras Packages\n",
    "\n",
    "##### Let's import the rest of the packages from the Keras library that we will need to build our regression model.\n"
   ]
  },
  {
   "cell_type": "code",
   "execution_count": 14,
   "metadata": {},
   "outputs": [],
   "source": [
    "from keras.models import Sequential\n",
    "from keras.layers import Dense\n",
    "from keras.layers import Input"
   ]
  },
  {
   "cell_type": "markdown",
   "metadata": {},
   "source": [
    "## Build a Neural Network\n"
   ]
  },
  {
   "cell_type": "markdown",
   "metadata": {},
   "source": [
    "Let's define a function that defines our regression model for us so that we can conveniently call it to create our model.\n"
   ]
  },
  {
   "cell_type": "code",
   "execution_count": 15,
   "metadata": {},
   "outputs": [],
   "source": [
    "# define regression model\n",
    "def regression_model():\n",
    "    # create model\n",
    "    model = Sequential()\n",
    "    model.add(Input(shape=(n_cols,)))\n",
    "    model.add(Dense(50, activation='relu'))\n",
    "    model.add(Dense(50, activation='relu'))\n",
    "    model.add(Dense(1))\n",
    "\n",
    "    # compile model\n",
    "    model.compile(optimizer='adam', loss='mean_squared_error')\n",
    "    return model"
   ]
  },
  {
   "cell_type": "markdown",
   "metadata": {},
   "source": [
    "The above function create a model that has two hidden layers, each of 50 hidden units.\n"
   ]
  },
  {
   "cell_type": "markdown",
   "metadata": {},
   "source": [
    "## Train and Test the Network\n"
   ]
  },
  {
   "cell_type": "markdown",
   "metadata": {},
   "source": [
    "Let's call the function now to create our model.\n"
   ]
  },
  {
   "cell_type": "code",
   "execution_count": 16,
   "metadata": {},
   "outputs": [],
   "source": [
    "# build the model\n",
    "model = regression_model()"
   ]
  },
  {
   "cell_type": "markdown",
   "metadata": {},
   "source": [
    "Next, we will train and test the model at the same time using the *fit* method. We will leave out 30% of the data for validation and we will train the model for 100 epochs.\n"
   ]
  },
  {
   "cell_type": "code",
   "execution_count": 17,
   "metadata": {},
   "outputs": [
    {
     "name": "stdout",
     "output_type": "stream",
     "text": [
      "Epoch 1/100\n",
      "23/23 - 0s - loss: 1629.8416 - val_loss: 1122.0575 - 396ms/epoch - 17ms/step\n",
      "Epoch 2/100\n",
      "23/23 - 0s - loss: 1475.6146 - val_loss: 986.4532 - 34ms/epoch - 1ms/step\n",
      "Epoch 3/100\n",
      "23/23 - 0s - loss: 1242.5818 - val_loss: 795.9185 - 35ms/epoch - 2ms/step\n",
      "Epoch 4/100\n",
      "23/23 - 0s - loss: 919.9156 - val_loss: 569.9727 - 19ms/epoch - 823us/step\n",
      "Epoch 5/100\n",
      "23/23 - 0s - loss: 578.4061 - val_loss: 366.8965 - 25ms/epoch - 1ms/step\n",
      "Epoch 6/100\n",
      "23/23 - 0s - loss: 351.1994 - val_loss: 246.7315 - 20ms/epoch - 871us/step\n",
      "Epoch 7/100\n",
      "23/23 - 0s - loss: 263.2581 - val_loss: 193.1432 - 22ms/epoch - 943us/step\n",
      "Epoch 8/100\n",
      "23/23 - 0s - loss: 230.1946 - val_loss: 178.0407 - 36ms/epoch - 2ms/step\n",
      "Epoch 9/100\n",
      "23/23 - 0s - loss: 212.4195 - val_loss: 169.7490 - 34ms/epoch - 1ms/step\n",
      "Epoch 10/100\n",
      "23/23 - 0s - loss: 201.4851 - val_loss: 167.5983 - 32ms/epoch - 1ms/step\n",
      "Epoch 11/100\n",
      "23/23 - 0s - loss: 193.3419 - val_loss: 167.7353 - 34ms/epoch - 1ms/step\n",
      "Epoch 12/100\n",
      "23/23 - 0s - loss: 186.7665 - val_loss: 166.6991 - 32ms/epoch - 1ms/step\n",
      "Epoch 13/100\n",
      "23/23 - 0s - loss: 181.5314 - val_loss: 163.9216 - 32ms/epoch - 1ms/step\n",
      "Epoch 14/100\n",
      "23/23 - 0s - loss: 177.3119 - val_loss: 162.4727 - 32ms/epoch - 1ms/step\n",
      "Epoch 15/100\n",
      "23/23 - 0s - loss: 172.7967 - val_loss: 161.6379 - 31ms/epoch - 1ms/step\n",
      "Epoch 16/100\n",
      "23/23 - 0s - loss: 169.0330 - val_loss: 161.0473 - 33ms/epoch - 1ms/step\n",
      "Epoch 17/100\n",
      "23/23 - 0s - loss: 166.2327 - val_loss: 160.1208 - 36ms/epoch - 2ms/step\n",
      "Epoch 18/100\n",
      "23/23 - 0s - loss: 162.8609 - val_loss: 157.5560 - 32ms/epoch - 1ms/step\n",
      "Epoch 19/100\n",
      "23/23 - 0s - loss: 160.2994 - val_loss: 157.5509 - 34ms/epoch - 1ms/step\n",
      "Epoch 20/100\n",
      "23/23 - 0s - loss: 157.5713 - val_loss: 156.0990 - 31ms/epoch - 1ms/step\n",
      "Epoch 21/100\n",
      "23/23 - 0s - loss: 156.0087 - val_loss: 158.8381 - 33ms/epoch - 1ms/step\n",
      "Epoch 22/100\n",
      "23/23 - 0s - loss: 153.2900 - val_loss: 156.1103 - 32ms/epoch - 1ms/step\n",
      "Epoch 23/100\n",
      "23/23 - 0s - loss: 152.7710 - val_loss: 158.3282 - 32ms/epoch - 1ms/step\n",
      "Epoch 24/100\n",
      "23/23 - 0s - loss: 149.1843 - val_loss: 156.1118 - 31ms/epoch - 1ms/step\n",
      "Epoch 25/100\n",
      "23/23 - 0s - loss: 147.9171 - val_loss: 157.2185 - 18ms/epoch - 797us/step\n",
      "Epoch 26/100\n",
      "23/23 - 0s - loss: 146.2151 - val_loss: 158.2455 - 31ms/epoch - 1ms/step\n",
      "Epoch 27/100\n",
      "23/23 - 0s - loss: 144.4157 - val_loss: 157.1062 - 36ms/epoch - 2ms/step\n",
      "Epoch 28/100\n",
      "23/23 - 0s - loss: 142.8941 - val_loss: 159.7760 - 34ms/epoch - 1ms/step\n",
      "Epoch 29/100\n",
      "23/23 - 0s - loss: 140.7554 - val_loss: 158.1172 - 33ms/epoch - 1ms/step\n",
      "Epoch 30/100\n",
      "23/23 - 0s - loss: 139.0518 - val_loss: 157.4606 - 32ms/epoch - 1ms/step\n",
      "Epoch 31/100\n",
      "23/23 - 0s - loss: 138.0186 - val_loss: 162.2988 - 37ms/epoch - 2ms/step\n",
      "Epoch 32/100\n",
      "23/23 - 0s - loss: 135.5274 - val_loss: 160.1509 - 29ms/epoch - 1ms/step\n",
      "Epoch 33/100\n",
      "23/23 - 0s - loss: 134.4942 - val_loss: 158.3896 - 38ms/epoch - 2ms/step\n",
      "Epoch 34/100\n",
      "23/23 - 0s - loss: 132.2693 - val_loss: 161.6342 - 37ms/epoch - 2ms/step\n",
      "Epoch 35/100\n",
      "23/23 - 0s - loss: 131.6189 - val_loss: 162.6809 - 25ms/epoch - 1ms/step\n",
      "Epoch 36/100\n",
      "23/23 - 0s - loss: 129.6099 - val_loss: 160.1197 - 36ms/epoch - 2ms/step\n",
      "Epoch 37/100\n",
      "23/23 - 0s - loss: 127.5533 - val_loss: 160.7126 - 35ms/epoch - 2ms/step\n",
      "Epoch 38/100\n",
      "23/23 - 0s - loss: 126.0810 - val_loss: 163.9229 - 34ms/epoch - 1ms/step\n",
      "Epoch 39/100\n",
      "23/23 - 0s - loss: 123.8729 - val_loss: 162.3719 - 28ms/epoch - 1ms/step\n",
      "Epoch 40/100\n",
      "23/23 - 0s - loss: 122.4699 - val_loss: 160.9297 - 36ms/epoch - 2ms/step\n",
      "Epoch 41/100\n",
      "23/23 - 0s - loss: 121.0432 - val_loss: 160.5667 - 32ms/epoch - 1ms/step\n",
      "Epoch 42/100\n",
      "23/23 - 0s - loss: 119.2784 - val_loss: 163.1697 - 32ms/epoch - 1ms/step\n",
      "Epoch 43/100\n",
      "23/23 - 0s - loss: 117.2608 - val_loss: 161.0361 - 32ms/epoch - 1ms/step\n",
      "Epoch 44/100\n",
      "23/23 - 0s - loss: 115.4134 - val_loss: 163.0785 - 31ms/epoch - 1ms/step\n",
      "Epoch 45/100\n",
      "23/23 - 0s - loss: 113.8774 - val_loss: 162.1908 - 31ms/epoch - 1ms/step\n",
      "Epoch 46/100\n",
      "23/23 - 0s - loss: 112.2745 - val_loss: 158.3586 - 19ms/epoch - 814us/step\n",
      "Epoch 47/100\n",
      "23/23 - 0s - loss: 109.6215 - val_loss: 162.2442 - 23ms/epoch - 980us/step\n",
      "Epoch 48/100\n",
      "23/23 - 0s - loss: 108.0582 - val_loss: 159.2689 - 21ms/epoch - 931us/step\n",
      "Epoch 49/100\n",
      "23/23 - 0s - loss: 105.1002 - val_loss: 160.1161 - 30ms/epoch - 1ms/step\n",
      "Epoch 50/100\n",
      "23/23 - 0s - loss: 103.5687 - val_loss: 166.8404 - 36ms/epoch - 2ms/step\n",
      "Epoch 51/100\n",
      "23/23 - 0s - loss: 100.5024 - val_loss: 157.5433 - 30ms/epoch - 1ms/step\n",
      "Epoch 52/100\n",
      "23/23 - 0s - loss: 97.9656 - val_loss: 158.8725 - 38ms/epoch - 2ms/step\n",
      "Epoch 53/100\n",
      "23/23 - 0s - loss: 95.6964 - val_loss: 157.5088 - 29ms/epoch - 1ms/step\n",
      "Epoch 54/100\n",
      "23/23 - 0s - loss: 93.6642 - val_loss: 152.8815 - 36ms/epoch - 2ms/step\n",
      "Epoch 55/100\n",
      "23/23 - 0s - loss: 91.3253 - val_loss: 156.5102 - 35ms/epoch - 2ms/step\n",
      "Epoch 56/100\n",
      "23/23 - 0s - loss: 88.7680 - val_loss: 151.0737 - 30ms/epoch - 1ms/step\n",
      "Epoch 57/100\n",
      "23/23 - 0s - loss: 87.1042 - val_loss: 147.5439 - 31ms/epoch - 1ms/step\n",
      "Epoch 58/100\n",
      "23/23 - 0s - loss: 84.1896 - val_loss: 147.7240 - 32ms/epoch - 1ms/step\n",
      "Epoch 59/100\n",
      "23/23 - 0s - loss: 81.7121 - val_loss: 152.8879 - 32ms/epoch - 1ms/step\n",
      "Epoch 60/100\n",
      "23/23 - 0s - loss: 79.0454 - val_loss: 154.2319 - 31ms/epoch - 1ms/step\n",
      "Epoch 61/100\n",
      "23/23 - 0s - loss: 76.9693 - val_loss: 142.6767 - 20ms/epoch - 886us/step\n",
      "Epoch 62/100\n",
      "23/23 - 0s - loss: 74.2499 - val_loss: 150.8659 - 17ms/epoch - 744us/step\n",
      "Epoch 63/100\n",
      "23/23 - 0s - loss: 71.0871 - val_loss: 144.4202 - 21ms/epoch - 914us/step\n",
      "Epoch 64/100\n",
      "23/23 - 0s - loss: 69.6926 - val_loss: 138.7500 - 30ms/epoch - 1ms/step\n",
      "Epoch 65/100\n",
      "23/23 - 0s - loss: 67.3784 - val_loss: 156.4039 - 38ms/epoch - 2ms/step\n",
      "Epoch 66/100\n",
      "23/23 - 0s - loss: 66.0073 - val_loss: 138.7571 - 29ms/epoch - 1ms/step\n",
      "Epoch 67/100\n",
      "23/23 - 0s - loss: 63.3902 - val_loss: 151.5898 - 36ms/epoch - 2ms/step\n",
      "Epoch 68/100\n",
      "23/23 - 0s - loss: 61.9049 - val_loss: 144.6158 - 30ms/epoch - 1ms/step\n",
      "Epoch 69/100\n",
      "23/23 - 0s - loss: 60.0628 - val_loss: 139.4794 - 37ms/epoch - 2ms/step\n",
      "Epoch 70/100\n",
      "23/23 - 0s - loss: 58.8238 - val_loss: 140.5567 - 30ms/epoch - 1ms/step\n",
      "Epoch 71/100\n",
      "23/23 - 0s - loss: 57.2095 - val_loss: 144.0340 - 38ms/epoch - 2ms/step\n",
      "Epoch 72/100\n",
      "23/23 - 0s - loss: 55.5664 - val_loss: 143.8250 - 29ms/epoch - 1ms/step\n",
      "Epoch 73/100\n",
      "23/23 - 0s - loss: 54.2716 - val_loss: 144.0653 - 35ms/epoch - 2ms/step\n",
      "Epoch 74/100\n",
      "23/23 - 0s - loss: 53.1541 - val_loss: 150.1302 - 35ms/epoch - 2ms/step\n",
      "Epoch 75/100\n",
      "23/23 - 0s - loss: 52.3197 - val_loss: 132.6982 - 32ms/epoch - 1ms/step\n",
      "Epoch 76/100\n",
      "23/23 - 0s - loss: 51.4918 - val_loss: 149.8821 - 33ms/epoch - 1ms/step\n",
      "Epoch 77/100\n",
      "23/23 - 0s - loss: 50.2178 - val_loss: 142.5854 - 33ms/epoch - 1ms/step\n",
      "Epoch 78/100\n",
      "23/23 - 0s - loss: 48.6048 - val_loss: 143.5365 - 33ms/epoch - 1ms/step\n",
      "Epoch 79/100\n",
      "23/23 - 0s - loss: 48.1943 - val_loss: 148.0059 - 31ms/epoch - 1ms/step\n",
      "Epoch 80/100\n",
      "23/23 - 0s - loss: 46.6696 - val_loss: 144.1665 - 31ms/epoch - 1ms/step\n",
      "Epoch 81/100\n",
      "23/23 - 0s - loss: 45.9549 - val_loss: 144.3675 - 36ms/epoch - 2ms/step\n",
      "Epoch 82/100\n",
      "23/23 - 0s - loss: 46.2589 - val_loss: 136.5805 - 29ms/epoch - 1ms/step\n",
      "Epoch 83/100\n",
      "23/23 - 0s - loss: 44.7048 - val_loss: 148.8545 - 38ms/epoch - 2ms/step\n",
      "Epoch 84/100\n",
      "23/23 - 0s - loss: 44.0413 - val_loss: 148.7734 - 29ms/epoch - 1ms/step\n",
      "Epoch 85/100\n",
      "23/23 - 0s - loss: 42.8723 - val_loss: 148.6017 - 37ms/epoch - 2ms/step\n",
      "Epoch 86/100\n",
      "23/23 - 0s - loss: 42.1027 - val_loss: 135.3391 - 38ms/epoch - 2ms/step\n",
      "Epoch 87/100\n",
      "23/23 - 0s - loss: 42.1037 - val_loss: 136.2431 - 24ms/epoch - 1ms/step\n",
      "Epoch 88/100\n",
      "23/23 - 0s - loss: 40.9543 - val_loss: 150.9360 - 35ms/epoch - 2ms/step\n",
      "Epoch 89/100\n",
      "23/23 - 0s - loss: 40.8841 - val_loss: 136.8332 - 36ms/epoch - 2ms/step\n",
      "Epoch 90/100\n",
      "23/23 - 0s - loss: 40.0479 - val_loss: 157.4310 - 30ms/epoch - 1ms/step\n",
      "Epoch 91/100\n",
      "23/23 - 0s - loss: 40.3221 - val_loss: 141.7738 - 33ms/epoch - 1ms/step\n",
      "Epoch 92/100\n",
      "23/23 - 0s - loss: 38.7761 - val_loss: 141.3474 - 32ms/epoch - 1ms/step\n",
      "Epoch 93/100\n",
      "23/23 - 0s - loss: 38.8433 - val_loss: 139.3473 - 31ms/epoch - 1ms/step\n",
      "Epoch 94/100\n",
      "23/23 - 0s - loss: 38.2208 - val_loss: 135.2230 - 31ms/epoch - 1ms/step\n",
      "Epoch 95/100\n",
      "23/23 - 0s - loss: 37.7116 - val_loss: 153.2559 - 21ms/epoch - 899us/step\n",
      "Epoch 96/100\n",
      "23/23 - 0s - loss: 37.8205 - val_loss: 139.9168 - 17ms/epoch - 726us/step\n",
      "Epoch 97/100\n",
      "23/23 - 0s - loss: 37.8074 - val_loss: 142.3499 - 20ms/epoch - 890us/step\n",
      "Epoch 98/100\n",
      "23/23 - 0s - loss: 36.6289 - val_loss: 127.7130 - 31ms/epoch - 1ms/step\n",
      "Epoch 99/100\n",
      "23/23 - 0s - loss: 36.2052 - val_loss: 137.2326 - 38ms/epoch - 2ms/step\n",
      "Epoch 100/100\n",
      "23/23 - 0s - loss: 35.9393 - val_loss: 139.4975 - 29ms/epoch - 1ms/step\n"
     ]
    },
    {
     "data": {
      "text/plain": [
       "<keras.src.callbacks.History at 0x1a4649c08e0>"
      ]
     },
     "execution_count": 17,
     "metadata": {},
     "output_type": "execute_result"
    }
   ],
   "source": [
    "# fit the model\n",
    "model.fit(predictors_norm, target, validation_split=0.3, epochs=100, verbose=2)"
   ]
  },
  {
   "cell_type": "markdown",
   "metadata": {},
   "source": [
    "<strong>You can refer to this [link](https://keras.io/models/sequential/) to learn about other functions that you can use for prediction or evaluation.</strong>\n"
   ]
  },
  {
   "cell_type": "markdown",
   "metadata": {},
   "source": [
    "Feel free to vary the following and note what impact each change has on the model's performance:\n",
    "\n",
    "1. Increase or decreate number of neurons in hidden layers\n",
    "2. Add more hidden layers\n",
    "3. Increase number of epochs\n"
   ]
  },
  {
   "cell_type": "markdown",
   "metadata": {},
   "source": [
    "<h3>Practice Exercise 1</h3>\n"
   ]
  },
  {
   "cell_type": "markdown",
   "metadata": {},
   "source": [
    "Now using the same dateset,try to recreate regression model featuring five hidden layers, each with 50 nodes and ReLU activation functions, a single output layer, optimized using the Adam optimizer.\n"
   ]
  },
  {
   "cell_type": "code",
   "execution_count": 18,
   "metadata": {},
   "outputs": [],
   "source": [
    "# Write your code here\n",
    "def regression_model():\n",
    "    input_colm = predictors_norm.shape[1] # Number of input features\n",
    "    # create model\n",
    "    model = Sequential()\n",
    "    model.add(Input(shape=(input_colm,)))  # Set the number of input features \n",
    "    model.add(Dense(50, activation='relu'))  \n",
    "    model.add(Dense(50, activation='relu'))\n",
    "    model.add(Dense(50, activation='relu')) \n",
    "    model.add(Dense(50, activation='relu'))\n",
    "    model.add(Dense(50, activation='relu'))  \n",
    "    model.add(Dense(1))  # Output layer\n",
    "    \n",
    "    # compile model\n",
    "    model.compile(optimizer='adam', loss='mean_squared_error')\n",
    "    return model\n"
   ]
  },
  {
   "cell_type": "markdown",
   "metadata": {},
   "source": [
    "<h3>Practice Exercise 2</h3>\n"
   ]
  },
  {
   "cell_type": "markdown",
   "metadata": {},
   "source": [
    " Train and evaluate the model simultaneously using the fit() method by reserving 10% of the data for validation and training the model for 100 epochs\n"
   ]
  },
  {
   "cell_type": "code",
   "execution_count": 19,
   "metadata": {},
   "outputs": [
    {
     "name": "stdout",
     "output_type": "stream",
     "text": [
      "Epoch 1/100\n",
      "29/29 - 1s - loss: 1546.6147 - val_loss: 1037.9138 - 513ms/epoch - 18ms/step\n",
      "Epoch 2/100\n",
      "29/29 - 0s - loss: 818.7208 - val_loss: 255.6734 - 38ms/epoch - 1ms/step\n",
      "Epoch 3/100\n",
      "29/29 - 0s - loss: 242.7240 - val_loss: 201.9082 - 47ms/epoch - 2ms/step\n",
      "Epoch 4/100\n",
      "29/29 - 0s - loss: 191.0574 - val_loss: 178.1103 - 38ms/epoch - 1ms/step\n",
      "Epoch 5/100\n",
      "29/29 - 0s - loss: 175.9083 - val_loss: 171.3305 - 33ms/epoch - 1ms/step\n",
      "Epoch 6/100\n",
      "29/29 - 0s - loss: 163.0148 - val_loss: 156.0189 - 33ms/epoch - 1ms/step\n",
      "Epoch 7/100\n",
      "29/29 - 0s - loss: 151.4730 - val_loss: 150.1701 - 33ms/epoch - 1ms/step\n",
      "Epoch 8/100\n",
      "29/29 - 0s - loss: 136.6768 - val_loss: 140.9900 - 34ms/epoch - 1ms/step\n",
      "Epoch 9/100\n",
      "29/29 - 0s - loss: 123.2814 - val_loss: 133.7924 - 36ms/epoch - 1ms/step\n",
      "Epoch 10/100\n",
      "29/29 - 0s - loss: 112.2450 - val_loss: 119.4708 - 33ms/epoch - 1ms/step\n",
      "Epoch 11/100\n",
      "29/29 - 0s - loss: 101.0217 - val_loss: 112.8381 - 48ms/epoch - 2ms/step\n",
      "Epoch 12/100\n",
      "29/29 - 0s - loss: 93.0207 - val_loss: 104.5173 - 33ms/epoch - 1ms/step\n",
      "Epoch 13/100\n",
      "29/29 - 0s - loss: 84.0567 - val_loss: 98.6956 - 34ms/epoch - 1ms/step\n",
      "Epoch 14/100\n",
      "29/29 - 0s - loss: 78.7058 - val_loss: 96.9560 - 33ms/epoch - 1ms/step\n",
      "Epoch 15/100\n",
      "29/29 - 0s - loss: 68.7051 - val_loss: 90.7474 - 32ms/epoch - 1ms/step\n",
      "Epoch 16/100\n",
      "29/29 - 0s - loss: 63.6167 - val_loss: 73.4298 - 34ms/epoch - 1ms/step\n",
      "Epoch 17/100\n",
      "29/29 - 0s - loss: 57.7607 - val_loss: 70.9188 - 33ms/epoch - 1ms/step\n",
      "Epoch 18/100\n",
      "29/29 - 0s - loss: 53.7193 - val_loss: 67.3148 - 35ms/epoch - 1ms/step\n",
      "Epoch 19/100\n",
      "29/29 - 0s - loss: 49.8923 - val_loss: 63.2331 - 46ms/epoch - 2ms/step\n",
      "Epoch 20/100\n",
      "29/29 - 0s - loss: 45.4116 - val_loss: 50.6168 - 33ms/epoch - 1ms/step\n",
      "Epoch 21/100\n",
      "29/29 - 0s - loss: 42.5948 - val_loss: 50.5853 - 34ms/epoch - 1ms/step\n",
      "Epoch 22/100\n",
      "29/29 - 0s - loss: 41.2477 - val_loss: 42.6619 - 34ms/epoch - 1ms/step\n",
      "Epoch 23/100\n",
      "29/29 - 0s - loss: 39.3613 - val_loss: 47.5790 - 31ms/epoch - 1ms/step\n",
      "Epoch 24/100\n",
      "29/29 - 0s - loss: 37.4701 - val_loss: 41.2191 - 39ms/epoch - 1ms/step\n",
      "Epoch 25/100\n",
      "29/29 - 0s - loss: 35.0775 - val_loss: 39.7304 - 26ms/epoch - 903us/step\n",
      "Epoch 26/100\n",
      "29/29 - 0s - loss: 35.0646 - val_loss: 36.4693 - 34ms/epoch - 1ms/step\n",
      "Epoch 27/100\n",
      "29/29 - 0s - loss: 33.3010 - val_loss: 38.2273 - 33ms/epoch - 1ms/step\n",
      "Epoch 28/100\n",
      "29/29 - 0s - loss: 33.3008 - val_loss: 32.9013 - 36ms/epoch - 1ms/step\n",
      "Epoch 29/100\n",
      "29/29 - 0s - loss: 30.5392 - val_loss: 29.3359 - 31ms/epoch - 1ms/step\n",
      "Epoch 30/100\n",
      "29/29 - 0s - loss: 30.8021 - val_loss: 29.1360 - 35ms/epoch - 1ms/step\n",
      "Epoch 31/100\n",
      "29/29 - 0s - loss: 29.4080 - val_loss: 28.8814 - 34ms/epoch - 1ms/step\n",
      "Epoch 32/100\n",
      "29/29 - 0s - loss: 28.5756 - val_loss: 30.8567 - 32ms/epoch - 1ms/step\n",
      "Epoch 33/100\n",
      "29/29 - 0s - loss: 27.8546 - val_loss: 30.9876 - 36ms/epoch - 1ms/step\n",
      "Epoch 34/100\n",
      "29/29 - 0s - loss: 28.9621 - val_loss: 30.5305 - 32ms/epoch - 1ms/step\n",
      "Epoch 35/100\n",
      "29/29 - 0s - loss: 26.6431 - val_loss: 30.7570 - 38ms/epoch - 1ms/step\n",
      "Epoch 36/100\n",
      "29/29 - 0s - loss: 27.2446 - val_loss: 27.4875 - 26ms/epoch - 894us/step\n",
      "Epoch 37/100\n",
      "29/29 - 0s - loss: 24.5146 - val_loss: 28.1922 - 37ms/epoch - 1ms/step\n",
      "Epoch 38/100\n",
      "29/29 - 0s - loss: 23.9964 - val_loss: 39.2341 - 30ms/epoch - 1ms/step\n",
      "Epoch 39/100\n",
      "29/29 - 0s - loss: 24.0658 - val_loss: 32.1598 - 37ms/epoch - 1ms/step\n",
      "Epoch 40/100\n",
      "29/29 - 0s - loss: 24.5544 - val_loss: 30.8405 - 30ms/epoch - 1ms/step\n",
      "Epoch 41/100\n",
      "29/29 - 0s - loss: 24.1371 - val_loss: 28.1524 - 34ms/epoch - 1ms/step\n",
      "Epoch 42/100\n",
      "29/29 - 0s - loss: 22.5658 - val_loss: 29.7325 - 33ms/epoch - 1ms/step\n",
      "Epoch 43/100\n",
      "29/29 - 0s - loss: 21.5605 - val_loss: 26.2755 - 34ms/epoch - 1ms/step\n",
      "Epoch 44/100\n",
      "29/29 - 0s - loss: 20.9209 - val_loss: 27.5709 - 31ms/epoch - 1ms/step\n",
      "Epoch 45/100\n",
      "29/29 - 0s - loss: 22.2959 - val_loss: 33.4862 - 34ms/epoch - 1ms/step\n",
      "Epoch 46/100\n",
      "29/29 - 0s - loss: 20.9175 - val_loss: 27.7633 - 34ms/epoch - 1ms/step\n",
      "Epoch 47/100\n",
      "29/29 - 0s - loss: 19.8815 - val_loss: 29.7963 - 34ms/epoch - 1ms/step\n",
      "Epoch 48/100\n",
      "29/29 - 0s - loss: 20.3779 - val_loss: 30.9770 - 31ms/epoch - 1ms/step\n",
      "Epoch 49/100\n",
      "29/29 - 0s - loss: 20.1028 - val_loss: 22.2276 - 36ms/epoch - 1ms/step\n",
      "Epoch 50/100\n",
      "29/29 - 0s - loss: 19.0457 - val_loss: 24.3324 - 46ms/epoch - 2ms/step\n",
      "Epoch 51/100\n",
      "29/29 - 0s - loss: 18.6009 - val_loss: 26.6455 - 33ms/epoch - 1ms/step\n",
      "Epoch 52/100\n",
      "29/29 - 0s - loss: 18.6389 - val_loss: 26.7044 - 33ms/epoch - 1ms/step\n",
      "Epoch 53/100\n",
      "29/29 - 0s - loss: 19.0857 - val_loss: 25.7457 - 33ms/epoch - 1ms/step\n",
      "Epoch 54/100\n",
      "29/29 - 0s - loss: 19.1297 - val_loss: 24.8658 - 32ms/epoch - 1ms/step\n",
      "Epoch 55/100\n",
      "29/29 - 0s - loss: 17.8036 - val_loss: 26.5292 - 36ms/epoch - 1ms/step\n",
      "Epoch 56/100\n",
      "29/29 - 0s - loss: 17.3709 - val_loss: 21.5205 - 31ms/epoch - 1ms/step\n",
      "Epoch 57/100\n",
      "29/29 - 0s - loss: 17.2594 - val_loss: 22.0999 - 37ms/epoch - 1ms/step\n",
      "Epoch 58/100\n",
      "29/29 - 0s - loss: 17.4486 - val_loss: 26.4782 - 29ms/epoch - 1ms/step\n",
      "Epoch 59/100\n",
      "29/29 - 0s - loss: 17.6065 - val_loss: 22.5158 - 34ms/epoch - 1ms/step\n",
      "Epoch 60/100\n",
      "29/29 - 0s - loss: 16.1962 - val_loss: 20.8733 - 31ms/epoch - 1ms/step\n",
      "Epoch 61/100\n",
      "29/29 - 0s - loss: 16.3272 - val_loss: 20.3506 - 36ms/epoch - 1ms/step\n",
      "Epoch 62/100\n",
      "29/29 - 0s - loss: 15.2676 - val_loss: 19.7867 - 31ms/epoch - 1ms/step\n",
      "Epoch 63/100\n",
      "29/29 - 0s - loss: 16.4908 - val_loss: 24.1899 - 37ms/epoch - 1ms/step\n",
      "Epoch 64/100\n",
      "29/29 - 0s - loss: 16.2390 - val_loss: 18.3639 - 30ms/epoch - 1ms/step\n",
      "Epoch 65/100\n",
      "29/29 - 0s - loss: 14.9522 - val_loss: 18.3709 - 34ms/epoch - 1ms/step\n",
      "Epoch 66/100\n",
      "29/29 - 0s - loss: 14.7973 - val_loss: 19.3317 - 33ms/epoch - 1ms/step\n",
      "Epoch 67/100\n",
      "29/29 - 0s - loss: 15.5817 - val_loss: 18.6709 - 34ms/epoch - 1ms/step\n",
      "Epoch 68/100\n",
      "29/29 - 0s - loss: 15.1807 - val_loss: 18.4193 - 36ms/epoch - 1ms/step\n",
      "Epoch 69/100\n",
      "29/29 - 0s - loss: 15.1916 - val_loss: 18.5202 - 29ms/epoch - 984us/step\n",
      "Epoch 70/100\n",
      "29/29 - 0s - loss: 15.5980 - val_loss: 18.1071 - 35ms/epoch - 1ms/step\n",
      "Epoch 71/100\n",
      "29/29 - 0s - loss: 14.8185 - val_loss: 18.9087 - 33ms/epoch - 1ms/step\n",
      "Epoch 72/100\n",
      "29/29 - 0s - loss: 14.0400 - val_loss: 19.8346 - 31ms/epoch - 1ms/step\n",
      "Epoch 73/100\n",
      "29/29 - 0s - loss: 13.5399 - val_loss: 28.8409 - 37ms/epoch - 1ms/step\n",
      "Epoch 74/100\n",
      "29/29 - 0s - loss: 14.3879 - val_loss: 19.6729 - 30ms/epoch - 1ms/step\n",
      "Epoch 75/100\n",
      "29/29 - 0s - loss: 14.0808 - val_loss: 17.2952 - 36ms/epoch - 1ms/step\n",
      "Epoch 76/100\n",
      "29/29 - 0s - loss: 14.1564 - val_loss: 18.4017 - 46ms/epoch - 2ms/step\n",
      "Epoch 77/100\n",
      "29/29 - 0s - loss: 13.8702 - val_loss: 23.1894 - 34ms/epoch - 1ms/step\n",
      "Epoch 78/100\n",
      "29/29 - 0s - loss: 13.8707 - val_loss: 17.4475 - 32ms/epoch - 1ms/step\n",
      "Epoch 79/100\n",
      "29/29 - 0s - loss: 13.0990 - val_loss: 16.9684 - 36ms/epoch - 1ms/step\n",
      "Epoch 80/100\n",
      "29/29 - 0s - loss: 13.3581 - val_loss: 17.5013 - 30ms/epoch - 1ms/step\n",
      "Epoch 81/100\n",
      "29/29 - 0s - loss: 12.9419 - val_loss: 17.5095 - 37ms/epoch - 1ms/step\n",
      "Epoch 82/100\n",
      "29/29 - 0s - loss: 13.2456 - val_loss: 16.7158 - 30ms/epoch - 1ms/step\n",
      "Epoch 83/100\n",
      "29/29 - 0s - loss: 12.9545 - val_loss: 24.3839 - 32ms/epoch - 1ms/step\n",
      "Epoch 84/100\n",
      "29/29 - 0s - loss: 13.0665 - val_loss: 19.7377 - 32ms/epoch - 1ms/step\n",
      "Epoch 85/100\n",
      "29/29 - 0s - loss: 12.0058 - val_loss: 23.4038 - 36ms/epoch - 1ms/step\n",
      "Epoch 86/100\n",
      "29/29 - 0s - loss: 14.2281 - val_loss: 15.6978 - 30ms/epoch - 1ms/step\n",
      "Epoch 87/100\n",
      "29/29 - 0s - loss: 12.6071 - val_loss: 16.9600 - 37ms/epoch - 1ms/step\n",
      "Epoch 88/100\n",
      "29/29 - 0s - loss: 13.0793 - val_loss: 18.1774 - 47ms/epoch - 2ms/step\n",
      "Epoch 89/100\n",
      "29/29 - 0s - loss: 13.4940 - val_loss: 19.0886 - 35ms/epoch - 1ms/step\n",
      "Epoch 90/100\n",
      "29/29 - 0s - loss: 13.2431 - val_loss: 16.1129 - 31ms/epoch - 1ms/step\n",
      "Epoch 91/100\n",
      "29/29 - 0s - loss: 12.6632 - val_loss: 18.0476 - 39ms/epoch - 1ms/step\n",
      "Epoch 92/100\n",
      "29/29 - 0s - loss: 13.2720 - val_loss: 17.0247 - 26ms/epoch - 908us/step\n",
      "Epoch 93/100\n",
      "29/29 - 0s - loss: 12.8596 - val_loss: 15.9319 - 36ms/epoch - 1ms/step\n",
      "Epoch 94/100\n",
      "29/29 - 0s - loss: 11.6592 - val_loss: 18.9388 - 47ms/epoch - 2ms/step\n",
      "Epoch 95/100\n",
      "29/29 - 0s - loss: 12.6067 - val_loss: 20.5659 - 34ms/epoch - 1ms/step\n",
      "Epoch 96/100\n",
      "29/29 - 0s - loss: 15.8877 - val_loss: 16.0054 - 32ms/epoch - 1ms/step\n",
      "Epoch 97/100\n",
      "29/29 - 0s - loss: 14.1048 - val_loss: 16.2104 - 35ms/epoch - 1ms/step\n",
      "Epoch 98/100\n",
      "29/29 - 0s - loss: 12.5026 - val_loss: 17.1009 - 31ms/epoch - 1ms/step\n",
      "Epoch 99/100\n",
      "29/29 - 0s - loss: 11.1669 - val_loss: 15.6803 - 39ms/epoch - 1ms/step\n",
      "Epoch 100/100\n",
      "29/29 - 0s - loss: 11.9033 - val_loss: 15.4733 - 30ms/epoch - 1ms/step\n"
     ]
    },
    {
     "data": {
      "text/plain": [
       "<keras.src.callbacks.History at 0x1a466d1b940>"
      ]
     },
     "execution_count": 19,
     "metadata": {},
     "output_type": "execute_result"
    }
   ],
   "source": [
    "# Write your code here\n",
    "model = regression_model()\n",
    "model.fit(predictors_norm, target, validation_split=0.1, epochs=100, verbose=2)\n"
   ]
  },
  {
   "cell_type": "markdown",
   "metadata": {},
   "source": [
    "Based on the results, we notice that:\n",
    "\n",
    "- Adding more hidden layers to the model increases its capacity to learn and represent complex relationships within the data. This allows the model to better identify, as a result, the model becomes more effective at fitting the training data and potentially improving its predictions.\n",
    "- By reducing the proportion of data set aside for validation and using a larger portion for training, the model has access to more examples to learn from. This additional training data helps the model improve its understanding of the underlying trends, which can lead to better overall performance.  \n"
   ]
  },
  {
   "cell_type": "markdown",
   "metadata": {},
   "source": [
    "### Thank you for completing this lab!\n",
    "\n",
    "This notebook was created by [Alex Aklson](https://www.linkedin.com/in/aklson/). I hope you found this lab interesting and educational. Feel free to contact me if you have any questions!\n"
   ]
  },
  {
   "cell_type": "markdown",
   "metadata": {},
   "source": [
    "<!--\n",
    "## Change Log\n",
    "\n",
    "|  Date (YYYY-MM-DD) |  Version | Changed By  |  Change Description |\n",
    "|---|---|---|---|\n",
    "| 2024-11-20  | 3.0  | Aman  |  Updated the library versions to current |\n",
    "| 2020-09-21  | 2.0  | Srishti  |  Migrated Lab to Markdown and added to course repo in GitLab |\n",
    "\n",
    "\n",
    "\n",
    "<hr>\n",
    "\n",
    "## <h3 align=\"center\"> © IBM Corporation. All rights reserved. <h3/>\n"
   ]
  },
  {
   "cell_type": "markdown",
   "metadata": {},
   "source": [
    "## <h3 align=\"center\"> &#169; IBM Corporation. All rights reserved. <h3/>\n",
    "\n"
   ]
  }
 ],
 "metadata": {
  "kernelspec": {
   "display_name": "ML_Learning",
   "language": "python",
   "name": "python3"
  },
  "language_info": {
   "codemirror_mode": {
    "name": "ipython",
    "version": 3
   },
   "file_extension": ".py",
   "mimetype": "text/x-python",
   "name": "python",
   "nbconvert_exporter": "python",
   "pygments_lexer": "ipython3",
   "version": "3.8.20"
  },
  "prev_pub_hash": "1318243f5c57a871ada11a63a887b187b71b9e224c59cc45cb9fac7ca19844fc"
 },
 "nbformat": 4,
 "nbformat_minor": 4
}
