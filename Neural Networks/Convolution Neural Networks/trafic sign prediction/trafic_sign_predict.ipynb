{
  "cells": [
    {
      "cell_type": "code",
      "execution_count": 4,
      "metadata": {
        "id": "wqdHE-LTpIrK"
      },
      "outputs": [],
      "source": [
        "import tensorflow as tf\n",
        "import numpy as np\n",
        "import matplotlib.pyplot as plt\n",
        "from sklearn.utils import shuffle\n",
        "from sklearn.preprocessing import LabelBinarizer\n",
        "from tensorflow.keras.models import Model\n",
        "from tensorflow.keras.models import Sequential\n",
        "from tensorflow.keras.layers import BatchNormalization\n",
        "from tensorflow.keras.layers import AveragePooling2D\n",
        "from tensorflow.keras.layers import MaxPooling2D\n",
        "from tensorflow.keras.layers import Conv2D\n",
        "from tensorflow.keras.layers import Activation\n",
        "from tensorflow.keras.layers import Dropout\n",
        "from tensorflow.keras.layers import Flatten\n",
        "from tensorflow.keras.layers import Input\n",
        "from tensorflow.keras.layers import Dense\n",
        "from tensorflow.keras.layers import concatenate\n",
        "from tensorflow.keras.preprocessing.image import ImageDataGenerator\n",
        "from tensorflow.keras.optimizers import SGD"
      ]
    },
    {
      "cell_type": "code",
      "execution_count": 5,
      "metadata": {
        "id": "z3eDcbHWyFW5"
      },
      "outputs": [],
      "source": [
        "# import wget\n",
        "\n",
        "# link = \"https://d17h27t6h515a5.cloudfront.net/topher/2017/February/5898cd6f_traffic-signs-data/traffic-signs-data.zip\"\n",
        "# wget.download(link)"
      ]
    },
    {
      "cell_type": "code",
      "execution_count": 6,
      "metadata": {
        "id": "cqxbWBZS1iP4"
      },
      "outputs": [],
      "source": [
        "import os\n",
        "import pickle\n",
        "\n",
        "base_dir = r\"D:\\Learning AI\\AI-Learning-Project\\Neural Networks\\Convolution Neural Networks\\trafic sign prediction\\data\"\n",
        "\n",
        "def load_pickle(filename):\n",
        "    with open(os.path.join(base_dir, filename), 'rb') as f:\n",
        "        return pickle.load(f)\n",
        "\n",
        "train = load_pickle(\"train.p\")\n",
        "valid = load_pickle(\"valid.p\")\n",
        "test = load_pickle(\"test.p\")"
      ]
    },
    {
      "cell_type": "code",
      "execution_count": 7,
      "metadata": {
        "id": "XD9O8nexGhnD"
      },
      "outputs": [],
      "source": [
        "classNames = {0: 'Speed limit (20km/h)',\n",
        " 1: 'Speed limit (30km/h)',\n",
        " 2: 'Speed limit (50km/h)',\n",
        " 3: 'Speed limit (60km/h)',\n",
        " 4: 'Speed limit (70km/h)',\n",
        " 5: 'Speed limit (80km/h)',\n",
        " 6: 'End of speed limit (80km/h)',\n",
        " 7: 'Speed limit (100km/h)',\n",
        " 8: 'Speed limit (120km/h)',\n",
        " 9: 'No passing',\n",
        " 10: 'No passing for vehicles over 3.5 metric tons',\n",
        " 11: 'Right-of-way at the next intersection',\n",
        " 12: 'Priority road',\n",
        " 13: 'Yield',\n",
        " 14: 'Stop',\n",
        " 15: 'No vehicles',\n",
        " 16: 'Vehicles over 3.5 metric tons prohibited',\n",
        " 17: 'No entry',\n",
        " 18: 'General caution',\n",
        " 19: 'Dangerous curve to the left',\n",
        " 20: 'Dangerous curve to the right',\n",
        " 21: 'Double curve',\n",
        " 22: 'Bumpy road',\n",
        " 23: 'Slippery road',\n",
        " 24: 'Road narrows on the right',\n",
        " 25: 'Road work',\n",
        " 26: 'Traffic signals',\n",
        " 27: 'Pedestrians',\n",
        " 28: 'Children crossing',\n",
        " 29: 'Bicycles crossing',\n",
        " 30: 'Beware of ice/snow',\n",
        " 31: 'Wild animals crossing',\n",
        " 32: 'End of all speed and passing limits',\n",
        " 33: 'Turn right ahead',\n",
        " 34: 'Turn left ahead',\n",
        " 35: 'Ahead only',\n",
        " 36: 'Go straight or right',\n",
        " 37: 'Go straight or left',\n",
        " 38: 'Keep right',\n",
        " 39: 'Keep left',\n",
        " 40: 'Roundabout mandatory',\n",
        " 41: 'End of no passing',\n",
        " 42: 'End of no passing by vehicles over 3.5 metric tons'}\n"
      ]
    },
    {
      "cell_type": "code",
      "execution_count": 8,
      "metadata": {
        "id": "FTNx8nPiBAwH"
      },
      "outputs": [],
      "source": [
        "trainX = train[\"features\"]\n",
        "trainY = train[\"labels\"]\n",
        "validX = valid[\"features\"]\n",
        "validY = valid[\"labels\"]\n",
        "testX = test[\"features\"]\n",
        "testY = test[\"labels\"]\n",
        "\n",
        "trainX = trainX.astype(\"float\") / 255.0\n",
        "validX = validX.astype(\"float\") / 255.0\n",
        "testX = testX.astype(\"float\") / 255.0\n",
        "\n",
        "lb = LabelBinarizer()\n",
        "trainY = lb.fit_transform(trainY)\n",
        "validY = lb.fit_transform(validY)\n",
        "testY = lb.fit_transform(testY)\n",
        "\n",
        "trainX, trainY = shuffle(trainX, trainY)"
      ]
    },
    {
      "cell_type": "code",
      "execution_count": 9,
      "metadata": {
        "id": "d2a2WftbSqDI"
      },
      "outputs": [],
      "source": [
        "width = 32\n",
        "height = 32\n",
        "classes = 43\n",
        "shape = (width, height, 3)"
      ]
    },
    {
      "cell_type": "code",
      "execution_count": 10,
      "metadata": {
        "id": "z6-QRL0-hhlX"
      },
      "outputs": [],
      "source": [
        "#CNN - VGG 16\n",
        "model = Sequential()\n",
        "\n",
        "# Input layer\n",
        "model.add(Conv2D(32, (3, 3), padding=\"same\", input_shape=shape))\n",
        "model.add(Activation(\"relu\"))\n",
        "model.add(BatchNormalization())\n",
        "\n",
        "# Hidden Layers\n",
        "model.add(Conv2D(32, (3, 3), padding=\"same\"))\n",
        "model.add(Activation(\"relu\"))\n",
        "model.add(BatchNormalization())\n",
        "model.add(MaxPooling2D(pool_size=(2,2)))\n",
        "\n",
        "model.add(Conv2D(64, (3, 3), padding=\"same\"))\n",
        "model.add(Activation(\"relu\"))\n",
        "model.add(BatchNormalization())\n",
        "\n",
        "model.add(Conv2D(64, (3, 3), padding=\"same\"))\n",
        "model.add(Activation(\"relu\"))\n",
        "model.add(BatchNormalization())\n",
        "model.add(MaxPooling2D(pool_size=(2,2)))\n",
        "\n",
        "model.add(Flatten())\n",
        "model.add(Dense(512))\n",
        "model.add(Activation(\"relu\"))\n",
        "model.add(BatchNormalization())\n",
        "\n",
        "# Output Layers\n",
        "model.add(Dense(classes))\n",
        "model.add(Activation(\"softmax\"))"
      ]
    },
    {
      "cell_type": "code",
      "execution_count": 11,
      "metadata": {
        "colab": {
          "base_uri": "https://localhost:8080/",
          "height": 862
        },
        "id": "6_q68OwOhtt9",
        "outputId": "e8b69315-d5cb-4928-fa3c-ad9029ffafb9"
      },
      "outputs": [
        {
          "name": "stdout",
          "output_type": "stream",
          "text": [
            "Model: \"sequential\"\n",
            "_________________________________________________________________\n",
            "Layer (type)                 Output Shape              Param #   \n",
            "=================================================================\n",
            "conv2d (Conv2D)              (None, 32, 32, 32)        896       \n",
            "_________________________________________________________________\n",
            "activation (Activation)      (None, 32, 32, 32)        0         \n",
            "_________________________________________________________________\n",
            "batch_normalization (BatchNo (None, 32, 32, 32)        128       \n",
            "_________________________________________________________________\n",
            "conv2d_1 (Conv2D)            (None, 32, 32, 32)        9248      \n",
            "_________________________________________________________________\n",
            "activation_1 (Activation)    (None, 32, 32, 32)        0         \n",
            "_________________________________________________________________\n",
            "batch_normalization_1 (Batch (None, 32, 32, 32)        128       \n",
            "_________________________________________________________________\n",
            "max_pooling2d (MaxPooling2D) (None, 16, 16, 32)        0         \n",
            "_________________________________________________________________\n",
            "conv2d_2 (Conv2D)            (None, 16, 16, 64)        18496     \n",
            "_________________________________________________________________\n",
            "activation_2 (Activation)    (None, 16, 16, 64)        0         \n",
            "_________________________________________________________________\n",
            "batch_normalization_2 (Batch (None, 16, 16, 64)        256       \n",
            "_________________________________________________________________\n",
            "conv2d_3 (Conv2D)            (None, 16, 16, 64)        36928     \n",
            "_________________________________________________________________\n",
            "activation_3 (Activation)    (None, 16, 16, 64)        0         \n",
            "_________________________________________________________________\n",
            "batch_normalization_3 (Batch (None, 16, 16, 64)        256       \n",
            "_________________________________________________________________\n",
            "max_pooling2d_1 (MaxPooling2 (None, 8, 8, 64)          0         \n",
            "_________________________________________________________________\n",
            "flatten (Flatten)            (None, 4096)              0         \n",
            "_________________________________________________________________\n",
            "dense (Dense)                (None, 512)               2097664   \n",
            "_________________________________________________________________\n",
            "activation_4 (Activation)    (None, 512)               0         \n",
            "_________________________________________________________________\n",
            "batch_normalization_4 (Batch (None, 512)               2048      \n",
            "_________________________________________________________________\n",
            "dense_1 (Dense)              (None, 43)                22059     \n",
            "_________________________________________________________________\n",
            "activation_5 (Activation)    (None, 43)                0         \n",
            "=================================================================\n",
            "Total params: 2,188,107\n",
            "Trainable params: 2,186,699\n",
            "Non-trainable params: 1,408\n",
            "_________________________________________________________________\n"
          ]
        }
      ],
      "source": [
        "model.summary()"
      ]
    },
    {
      "cell_type": "code",
      "execution_count": 12,
      "metadata": {
        "id": "i6ySDdNttX7Y"
      },
      "outputs": [],
      "source": [
        "# generate more image\n",
        "aug = ImageDataGenerator(rotation_range=0.18, zoom_range=0.15, width_shift_range=0.2, height_shift_range=0.2, horizontal_flip=True)\n",
        "\n",
        "# specification trainning model\n",
        "learning_rate = 0.01\n",
        "epochs = 10\n",
        "batch_size = 64\n",
        "\n",
        "# optimizer : SGD: Sequence Gradient Descent\n",
        "opt = SGD(learning_rate=learning_rate, momentum=0.9)\n",
        "\n",
        "# compile model (optimizer, loss function, score)\n",
        "model.compile(optimizer=opt, loss=\"categorical_crossentropy\", metrics=[\"accuracy\"])"
      ]
    },
    {
      "cell_type": "code",
      "execution_count": 13,
      "metadata": {
        "colab": {
          "base_uri": "https://localhost:8080/",
          "height": 178
        },
        "id": "6agWcdkB8Lj9",
        "outputId": "d39b79e1-0359-4b84-9ca2-70b322a9d750"
      },
      "outputs": [
        {
          "name": "stdout",
          "output_type": "stream",
          "text": [
            "Start training\n",
            "Epoch 1/10\n",
            "543/543 [==============================] - 90s 165ms/step - loss: 2.0709 - accuracy: 0.3986 - val_loss: 1.8248 - val_accuracy: 0.4596\n",
            "Epoch 2/10\n",
            "543/543 [==============================] - 49s 91ms/step - loss: 0.8800 - accuracy: 0.7091 - val_loss: 1.3385 - val_accuracy: 0.6263\n",
            "Epoch 3/10\n",
            "543/543 [==============================] - 58s 107ms/step - loss: 0.4236 - accuracy: 0.8629 - val_loss: 1.0483 - val_accuracy: 0.7063\n",
            "Epoch 4/10\n",
            "543/543 [==============================] - 118s 217ms/step - loss: 0.2358 - accuracy: 0.9240 - val_loss: 0.5789 - val_accuracy: 0.8392\n",
            "Epoch 5/10\n",
            "543/543 [==============================] - 54s 99ms/step - loss: 0.1521 - accuracy: 0.9510 - val_loss: 0.6986 - val_accuracy: 0.8234\n",
            "Epoch 6/10\n",
            "543/543 [==============================] - 53s 98ms/step - loss: 0.1133 - accuracy: 0.9631 - val_loss: 0.5868 - val_accuracy: 0.8426\n",
            "Epoch 7/10\n",
            "543/543 [==============================] - 54s 99ms/step - loss: 0.0881 - accuracy: 0.9733 - val_loss: 0.5620 - val_accuracy: 0.8728\n",
            "Epoch 8/10\n",
            "543/543 [==============================] - 75s 139ms/step - loss: 0.0664 - accuracy: 0.9796 - val_loss: 0.5332 - val_accuracy: 0.8673\n",
            "Epoch 9/10\n",
            "543/543 [==============================] - 100s 185ms/step - loss: 0.0601 - accuracy: 0.9805 - val_loss: 0.6640 - val_accuracy: 0.8540\n",
            "Epoch 10/10\n",
            "543/543 [==============================] - 52s 96ms/step - loss: 0.0531 - accuracy: 0.9830 - val_loss: 0.6141 - val_accuracy: 0.8778\n"
          ]
        }
      ],
      "source": [
        "print(\"Start training\")\n",
        "H = model.fit(\n",
        "    aug.flow(trainX, trainY, batch_size=batch_size), \n",
        "    validation_data=(validX, validY), \n",
        "    steps_per_epoch=trainX.shape[0]//batch_size, \n",
        "    epochs=epochs, \n",
        "    verbose=1)"
      ]
    },
    {
      "cell_type": "code",
      "execution_count": 19,
      "metadata": {
        "id": "p31aw7raA6Hi"
      },
      "outputs": [
        {
          "name": "stdout",
          "output_type": "stream",
          "text": [
            "Requirement already satisfied: keras in c:\\users\\admin\\anaconda3\\envs\\ml_learning\\lib\\site-packages (2.13.1)\n",
            "Note: you may need to restart the kernel to use updated packages.\n"
          ]
        }
      ],
      "source": [
        "%pip install keras"
      ]
    },
    {
      "cell_type": "code",
      "execution_count": 21,
      "metadata": {},
      "outputs": [
        {
          "name": "stdout",
          "output_type": "stream",
          "text": [
            "WARNING:tensorflow:From c:\\Users\\admin\\anaconda3\\envs\\ML_Learning\\lib\\site-packages\\tensorflow\\python\\training\\tracking\\tracking.py:111: Model.state_updates (from tensorflow.python.keras.engine.training) is deprecated and will be removed in a future version.\n",
            "Instructions for updating:\n",
            "This property should not be used in TensorFlow 2.0, as updates are applied automatically.\n",
            "WARNING:tensorflow:From c:\\Users\\admin\\anaconda3\\envs\\ML_Learning\\lib\\site-packages\\tensorflow\\python\\training\\tracking\\tracking.py:111: Layer.updates (from tensorflow.python.keras.engine.base_layer) is deprecated and will be removed in a future version.\n",
            "Instructions for updating:\n",
            "This property should not be used in TensorFlow 2.0, as updates are applied automatically.\n",
            "INFO:tensorflow:Assets written to: trafic_sign_predict\\assets\n"
          ]
        }
      ],
      "source": [
        "model.save(\"trafic_sign_predict\")"
      ]
    },
    {
      "cell_type": "code",
      "execution_count": 22,
      "metadata": {
        "id": "5pazWUfgA9GD"
      },
      "outputs": [
        {
          "data": {
            "text/plain": [
              "'Speed limit (30km/h)'"
            ]
          },
          "execution_count": 22,
          "metadata": {},
          "output_type": "execute_result"
        }
      ],
      "source": [
        "saved_model = tf.keras.models.load_model(\"trafic_sign_predict\")\n",
        "\n",
        "result = saved_model.predict(testX[100:101])\n",
        "final = np.argmax(result)\n",
        "final = classNames[final]\n",
        "final"
      ]
    },
    {
      "cell_type": "code",
      "execution_count": 23,
      "metadata": {
        "colab": {
          "base_uri": "https://localhost:8080/",
          "height": 284
        },
        "id": "XBv8yxDwBWnu",
        "outputId": "64d06247-3074-4f24-e801-dd111c3df2a0"
      },
      "outputs": [
        {
          "data": {
            "text/plain": [
              "<matplotlib.image.AxesImage at 0x282b82eb9d0>"
            ]
          },
          "execution_count": 23,
          "metadata": {},
          "output_type": "execute_result"
        },
        {
          "data": {
            "image/png": "[encoded data removed]",
            "text/plain": [
              "<Figure size 640x480 with 1 Axes>"
            ]
          },
          "metadata": {},
          "output_type": "display_data"
        }
      ],
      "source": [
        "plt.imshow(test[\"features\"][100])"
      ]
    }
  ],
  "metadata": {
    "accelerator": "GPU",
    "colab": {
      "provenance": [],
      "toc_visible": true
    },
    "kernelspec": {
      "display_name": "ML_Learning",
      "language": "python",
      "name": "python3"
    },
    "language_info": {
      "codemirror_mode": {
        "name": "ipython",
        "version": 3
      },
      "file_extension": ".py",
      "mimetype": "text/x-python",
      "name": "python",
      "nbconvert_exporter": "python",
      "pygments_lexer": "ipython3",
      "version": "3.8.20"
    }
  },
  "nbformat": 4,
  "nbformat_minor": 0
}
